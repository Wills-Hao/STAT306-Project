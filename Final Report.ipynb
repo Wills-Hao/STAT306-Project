{
 "cells": [
  {
   "cell_type": "markdown",
   "id": "d3c1b878-1909-4363-8931-3defeb43eed0",
   "metadata": {
    "tags": []
   },
   "source": [
    "# Final Report"
   ]
  },
  {
   "cell_type": "code",
   "execution_count": 13,
   "id": "e18a4183-12bd-4c3e-83ab-478d44b17f45",
   "metadata": {
    "tags": []
   },
   "outputs": [
    {
     "name": "stderr",
     "output_type": "stream",
     "text": [
      "Warning message in system(\"timedatectl\", intern = TRUE):\n",
      "“running command 'timedatectl' had status 1”\n",
      "── \u001b[1mAttaching core tidyverse packages\u001b[22m ──────────────────────── tidyverse 2.0.0 ──\n",
      "\u001b[32m✔\u001b[39m \u001b[34mdplyr    \u001b[39m 1.1.0     \u001b[32m✔\u001b[39m \u001b[34mreadr    \u001b[39m 2.1.4\n",
      "\u001b[32m✔\u001b[39m \u001b[34mforcats  \u001b[39m 1.0.0     \u001b[32m✔\u001b[39m \u001b[34mstringr  \u001b[39m 1.5.0\n",
      "\u001b[32m✔\u001b[39m \u001b[34mggplot2  \u001b[39m 3.4.1     \u001b[32m✔\u001b[39m \u001b[34mtibble   \u001b[39m 3.2.1\n",
      "\u001b[32m✔\u001b[39m \u001b[34mlubridate\u001b[39m 1.9.2     \u001b[32m✔\u001b[39m \u001b[34mtidyr    \u001b[39m 1.3.0\n",
      "\u001b[32m✔\u001b[39m \u001b[34mpurrr    \u001b[39m 1.0.1     \n",
      "── \u001b[1mConflicts\u001b[22m ────────────────────────────────────────── tidyverse_conflicts() ──\n",
      "\u001b[31m✖\u001b[39m \u001b[34mdplyr\u001b[39m::\u001b[32mfilter()\u001b[39m masks \u001b[34mstats\u001b[39m::filter()\n",
      "\u001b[31m✖\u001b[39m \u001b[34mdplyr\u001b[39m::\u001b[32mlag()\u001b[39m    masks \u001b[34mstats\u001b[39m::lag()\n",
      "\u001b[36mℹ\u001b[39m Use the conflicted package (\u001b[3m\u001b[34m<http://conflicted.r-lib.org/>\u001b[39m\u001b[23m) to force all conflicts to become errors\n"
     ]
    }
   ],
   "source": [
    "library(tidyverse)"
   ]
  },
  {
   "cell_type": "code",
   "execution_count": 18,
   "id": "09d64b4b-c07f-4795-ad34-74daced8f645",
   "metadata": {
    "tags": []
   },
   "outputs": [
    {
     "data": {
      "text/html": [
       "<table class=\"dataframe\">\n",
       "<caption>A data.frame: 6 × 15</caption>\n",
       "<thead>\n",
       "\t<tr><th></th><th scope=col>ID</th><th scope=col>Age</th><th scope=col>Gender</th><th scope=col>Bedtime</th><th scope=col>Wakeup.time</th><th scope=col>Sleep.duration</th><th scope=col>Sleep.efficiency</th><th scope=col>REM.sleep.percentage</th><th scope=col>Deep.sleep.percentage</th><th scope=col>Light.sleep.percentage</th><th scope=col>Awakenings</th><th scope=col>Caffeine.consumption</th><th scope=col>Alcohol.consumption</th><th scope=col>Smoking.status</th><th scope=col>Exercise.frequency</th></tr>\n",
       "\t<tr><th></th><th scope=col>&lt;int&gt;</th><th scope=col>&lt;int&gt;</th><th scope=col>&lt;chr&gt;</th><th scope=col>&lt;chr&gt;</th><th scope=col>&lt;chr&gt;</th><th scope=col>&lt;dbl&gt;</th><th scope=col>&lt;dbl&gt;</th><th scope=col>&lt;int&gt;</th><th scope=col>&lt;int&gt;</th><th scope=col>&lt;int&gt;</th><th scope=col>&lt;dbl&gt;</th><th scope=col>&lt;dbl&gt;</th><th scope=col>&lt;dbl&gt;</th><th scope=col>&lt;chr&gt;</th><th scope=col>&lt;dbl&gt;</th></tr>\n",
       "</thead>\n",
       "<tbody>\n",
       "\t<tr><th scope=row>1</th><td>1</td><td>65</td><td>Female</td><td>2021-03-06 01:00:00</td><td>2021-03-06 07:00:00</td><td>6.0</td><td>0.88</td><td>18</td><td>70</td><td>12</td><td>0</td><td> 0</td><td>0</td><td>Yes</td><td>3</td></tr>\n",
       "\t<tr><th scope=row>2</th><td>2</td><td>69</td><td>Male  </td><td>2021-12-05 02:00:00</td><td>2021-12-05 09:00:00</td><td>7.0</td><td>0.66</td><td>19</td><td>28</td><td>53</td><td>3</td><td> 0</td><td>3</td><td>Yes</td><td>3</td></tr>\n",
       "\t<tr><th scope=row>3</th><td>3</td><td>40</td><td>Female</td><td>2021-05-25 21:30:00</td><td>2021-05-25 05:30:00</td><td>8.0</td><td>0.89</td><td>20</td><td>70</td><td>10</td><td>1</td><td> 0</td><td>0</td><td>No </td><td>3</td></tr>\n",
       "\t<tr><th scope=row>4</th><td>4</td><td>40</td><td>Female</td><td>2021-11-03 02:30:00</td><td>2021-11-03 08:30:00</td><td>6.0</td><td>0.51</td><td>23</td><td>25</td><td>52</td><td>3</td><td>50</td><td>5</td><td>Yes</td><td>1</td></tr>\n",
       "\t<tr><th scope=row>5</th><td>5</td><td>57</td><td>Male  </td><td>2021-03-13 01:00:00</td><td>2021-03-13 09:00:00</td><td>8.0</td><td>0.76</td><td>27</td><td>55</td><td>18</td><td>3</td><td> 0</td><td>3</td><td>No </td><td>3</td></tr>\n",
       "\t<tr><th scope=row>6</th><td>6</td><td>36</td><td>Female</td><td>2021-07-01 21:00:00</td><td>2021-07-01 04:30:00</td><td>7.5</td><td>0.90</td><td>23</td><td>60</td><td>17</td><td>0</td><td>NA</td><td>0</td><td>No </td><td>1</td></tr>\n",
       "</tbody>\n",
       "</table>\n"
      ],
      "text/latex": [
       "A data.frame: 6 × 15\n",
       "\\begin{tabular}{r|lllllllllllllll}\n",
       "  & ID & Age & Gender & Bedtime & Wakeup.time & Sleep.duration & Sleep.efficiency & REM.sleep.percentage & Deep.sleep.percentage & Light.sleep.percentage & Awakenings & Caffeine.consumption & Alcohol.consumption & Smoking.status & Exercise.frequency\\\\\n",
       "  & <int> & <int> & <chr> & <chr> & <chr> & <dbl> & <dbl> & <int> & <int> & <int> & <dbl> & <dbl> & <dbl> & <chr> & <dbl>\\\\\n",
       "\\hline\n",
       "\t1 & 1 & 65 & Female & 2021-03-06 01:00:00 & 2021-03-06 07:00:00 & 6.0 & 0.88 & 18 & 70 & 12 & 0 &  0 & 0 & Yes & 3\\\\\n",
       "\t2 & 2 & 69 & Male   & 2021-12-05 02:00:00 & 2021-12-05 09:00:00 & 7.0 & 0.66 & 19 & 28 & 53 & 3 &  0 & 3 & Yes & 3\\\\\n",
       "\t3 & 3 & 40 & Female & 2021-05-25 21:30:00 & 2021-05-25 05:30:00 & 8.0 & 0.89 & 20 & 70 & 10 & 1 &  0 & 0 & No  & 3\\\\\n",
       "\t4 & 4 & 40 & Female & 2021-11-03 02:30:00 & 2021-11-03 08:30:00 & 6.0 & 0.51 & 23 & 25 & 52 & 3 & 50 & 5 & Yes & 1\\\\\n",
       "\t5 & 5 & 57 & Male   & 2021-03-13 01:00:00 & 2021-03-13 09:00:00 & 8.0 & 0.76 & 27 & 55 & 18 & 3 &  0 & 3 & No  & 3\\\\\n",
       "\t6 & 6 & 36 & Female & 2021-07-01 21:00:00 & 2021-07-01 04:30:00 & 7.5 & 0.90 & 23 & 60 & 17 & 0 & NA & 0 & No  & 1\\\\\n",
       "\\end{tabular}\n"
      ],
      "text/markdown": [
       "\n",
       "A data.frame: 6 × 15\n",
       "\n",
       "| <!--/--> | ID &lt;int&gt; | Age &lt;int&gt; | Gender &lt;chr&gt; | Bedtime &lt;chr&gt; | Wakeup.time &lt;chr&gt; | Sleep.duration &lt;dbl&gt; | Sleep.efficiency &lt;dbl&gt; | REM.sleep.percentage &lt;int&gt; | Deep.sleep.percentage &lt;int&gt; | Light.sleep.percentage &lt;int&gt; | Awakenings &lt;dbl&gt; | Caffeine.consumption &lt;dbl&gt; | Alcohol.consumption &lt;dbl&gt; | Smoking.status &lt;chr&gt; | Exercise.frequency &lt;dbl&gt; |\n",
       "|---|---|---|---|---|---|---|---|---|---|---|---|---|---|---|---|\n",
       "| 1 | 1 | 65 | Female | 2021-03-06 01:00:00 | 2021-03-06 07:00:00 | 6.0 | 0.88 | 18 | 70 | 12 | 0 |  0 | 0 | Yes | 3 |\n",
       "| 2 | 2 | 69 | Male   | 2021-12-05 02:00:00 | 2021-12-05 09:00:00 | 7.0 | 0.66 | 19 | 28 | 53 | 3 |  0 | 3 | Yes | 3 |\n",
       "| 3 | 3 | 40 | Female | 2021-05-25 21:30:00 | 2021-05-25 05:30:00 | 8.0 | 0.89 | 20 | 70 | 10 | 1 |  0 | 0 | No  | 3 |\n",
       "| 4 | 4 | 40 | Female | 2021-11-03 02:30:00 | 2021-11-03 08:30:00 | 6.0 | 0.51 | 23 | 25 | 52 | 3 | 50 | 5 | Yes | 1 |\n",
       "| 5 | 5 | 57 | Male   | 2021-03-13 01:00:00 | 2021-03-13 09:00:00 | 8.0 | 0.76 | 27 | 55 | 18 | 3 |  0 | 3 | No  | 3 |\n",
       "| 6 | 6 | 36 | Female | 2021-07-01 21:00:00 | 2021-07-01 04:30:00 | 7.5 | 0.90 | 23 | 60 | 17 | 0 | NA | 0 | No  | 1 |\n",
       "\n"
      ],
      "text/plain": [
       "  ID Age Gender Bedtime             Wakeup.time         Sleep.duration\n",
       "1 1  65  Female 2021-03-06 01:00:00 2021-03-06 07:00:00 6.0           \n",
       "2 2  69  Male   2021-12-05 02:00:00 2021-12-05 09:00:00 7.0           \n",
       "3 3  40  Female 2021-05-25 21:30:00 2021-05-25 05:30:00 8.0           \n",
       "4 4  40  Female 2021-11-03 02:30:00 2021-11-03 08:30:00 6.0           \n",
       "5 5  57  Male   2021-03-13 01:00:00 2021-03-13 09:00:00 8.0           \n",
       "6 6  36  Female 2021-07-01 21:00:00 2021-07-01 04:30:00 7.5           \n",
       "  Sleep.efficiency REM.sleep.percentage Deep.sleep.percentage\n",
       "1 0.88             18                   70                   \n",
       "2 0.66             19                   28                   \n",
       "3 0.89             20                   70                   \n",
       "4 0.51             23                   25                   \n",
       "5 0.76             27                   55                   \n",
       "6 0.90             23                   60                   \n",
       "  Light.sleep.percentage Awakenings Caffeine.consumption Alcohol.consumption\n",
       "1 12                     0           0                   0                  \n",
       "2 53                     3           0                   3                  \n",
       "3 10                     1           0                   0                  \n",
       "4 52                     3          50                   5                  \n",
       "5 18                     3           0                   3                  \n",
       "6 17                     0          NA                   0                  \n",
       "  Smoking.status Exercise.frequency\n",
       "1 Yes            3                 \n",
       "2 Yes            3                 \n",
       "3 No             3                 \n",
       "4 Yes            1                 \n",
       "5 No             3                 \n",
       "6 No             1                 "
      ]
     },
     "metadata": {},
     "output_type": "display_data"
    }
   ],
   "source": [
    "# download.file(\"https://github.com/fivethirtyeight/data/raw/master/bechdel/movies.csv\", destfile = \"movies.csv\")\n",
    "sleep_data <- read.csv(\"Sleep_Efficiency.csv\")\n",
    "head(sleep_data)"
   ]
  },
  {
   "cell_type": "code",
   "execution_count": 30,
   "id": "6fe22e1d-a9a2-4359-9491-b45cc7f4d05d",
   "metadata": {
    "tags": []
   },
   "outputs": [
    {
     "data": {
      "text/html": [
       "FALSE"
      ],
      "text/latex": [
       "FALSE"
      ],
      "text/markdown": [
       "FALSE"
      ],
      "text/plain": [
       "[1] FALSE"
      ]
     },
     "metadata": {},
     "output_type": "display_data"
    },
    {
     "data": {
      "text/html": [
       "<table class=\"dataframe\">\n",
       "<caption>A data.frame: 6 × 5</caption>\n",
       "<thead>\n",
       "\t<tr><th></th><th scope=col>SleepEfficiency</th><th scope=col>CeffeineConsumption</th><th scope=col>AlcoholConsumption</th><th scope=col>SmokingStatus</th><th scope=col>ExerciseFrequency</th></tr>\n",
       "\t<tr><th></th><th scope=col>&lt;dbl&gt;</th><th scope=col>&lt;dbl&gt;</th><th scope=col>&lt;dbl&gt;</th><th scope=col>&lt;fct&gt;</th><th scope=col>&lt;dbl&gt;</th></tr>\n",
       "</thead>\n",
       "<tbody>\n",
       "\t<tr><th scope=row>1</th><td>0.88</td><td> 0</td><td>0</td><td>Yes</td><td>3</td></tr>\n",
       "\t<tr><th scope=row>2</th><td>0.66</td><td> 0</td><td>3</td><td>Yes</td><td>3</td></tr>\n",
       "\t<tr><th scope=row>3</th><td>0.89</td><td> 0</td><td>0</td><td>No </td><td>3</td></tr>\n",
       "\t<tr><th scope=row>4</th><td>0.51</td><td>50</td><td>5</td><td>Yes</td><td>1</td></tr>\n",
       "\t<tr><th scope=row>5</th><td>0.76</td><td> 0</td><td>3</td><td>No </td><td>3</td></tr>\n",
       "\t<tr><th scope=row>7</th><td>0.54</td><td>50</td><td>0</td><td>Yes</td><td>1</td></tr>\n",
       "</tbody>\n",
       "</table>\n"
      ],
      "text/latex": [
       "A data.frame: 6 × 5\n",
       "\\begin{tabular}{r|lllll}\n",
       "  & SleepEfficiency & CeffeineConsumption & AlcoholConsumption & SmokingStatus & ExerciseFrequency\\\\\n",
       "  & <dbl> & <dbl> & <dbl> & <fct> & <dbl>\\\\\n",
       "\\hline\n",
       "\t1 & 0.88 &  0 & 0 & Yes & 3\\\\\n",
       "\t2 & 0.66 &  0 & 3 & Yes & 3\\\\\n",
       "\t3 & 0.89 &  0 & 0 & No  & 3\\\\\n",
       "\t4 & 0.51 & 50 & 5 & Yes & 1\\\\\n",
       "\t5 & 0.76 &  0 & 3 & No  & 3\\\\\n",
       "\t7 & 0.54 & 50 & 0 & Yes & 1\\\\\n",
       "\\end{tabular}\n"
      ],
      "text/markdown": [
       "\n",
       "A data.frame: 6 × 5\n",
       "\n",
       "| <!--/--> | SleepEfficiency &lt;dbl&gt; | CeffeineConsumption &lt;dbl&gt; | AlcoholConsumption &lt;dbl&gt; | SmokingStatus &lt;fct&gt; | ExerciseFrequency &lt;dbl&gt; |\n",
       "|---|---|---|---|---|---|\n",
       "| 1 | 0.88 |  0 | 0 | Yes | 3 |\n",
       "| 2 | 0.66 |  0 | 3 | Yes | 3 |\n",
       "| 3 | 0.89 |  0 | 0 | No  | 3 |\n",
       "| 4 | 0.51 | 50 | 5 | Yes | 1 |\n",
       "| 5 | 0.76 |  0 | 3 | No  | 3 |\n",
       "| 7 | 0.54 | 50 | 0 | Yes | 1 |\n",
       "\n"
      ],
      "text/plain": [
       "  SleepEfficiency CeffeineConsumption AlcoholConsumption SmokingStatus\n",
       "1 0.88             0                  0                  Yes          \n",
       "2 0.66             0                  3                  Yes          \n",
       "3 0.89             0                  0                  No           \n",
       "4 0.51            50                  5                  Yes          \n",
       "5 0.76             0                  3                  No           \n",
       "7 0.54            50                  0                  Yes          \n",
       "  ExerciseFrequency\n",
       "1 3                \n",
       "2 3                \n",
       "3 3                \n",
       "4 1                \n",
       "5 3                \n",
       "7 1                "
      ]
     },
     "metadata": {},
     "output_type": "display_data"
    }
   ],
   "source": [
    "clean_data <- na.omit(sleep_data)\n",
    "anyNA(clean_data)\n",
    "clean_data <- clean_data %>%\n",
    "              mutate(SleepEfficiency = Sleep.efficiency,\n",
    "                     CeffeineConsumption = Caffeine.consumption,\n",
    "                     AlcoholConsumption = Alcohol.consumption, \n",
    "                     SmokingStatus = Smoking.status,\n",
    "                     ExerciseFrequency = Exercise.frequency) %>%\n",
    "              select(SleepEfficiency,CeffeineConsumption,AlcoholConsumption,SmokingStatus,ExerciseFrequency) %>%\n",
    "              mutate(SmokingStatus= as.factor(SmokingStatus))\n",
    "              \n",
    "head(clean_data)"
   ]
  },
  {
   "cell_type": "code",
   "execution_count": null,
   "id": "59d91fa3-fdac-435e-a768-5647b2c2ccb8",
   "metadata": {},
   "outputs": [],
   "source": []
  }
 ],
 "metadata": {
  "kernelspec": {
   "display_name": "R",
   "language": "R",
   "name": "ir"
  },
  "language_info": {
   "codemirror_mode": "r",
   "file_extension": ".r",
   "mimetype": "text/x-r-source",
   "name": "R",
   "pygments_lexer": "r",
   "version": "4.2.3"
  }
 },
 "nbformat": 4,
 "nbformat_minor": 5
}
